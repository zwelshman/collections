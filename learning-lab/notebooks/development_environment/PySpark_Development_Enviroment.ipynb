{
  "nbformat": 4,
  "nbformat_minor": 0,
  "metadata": {
    "colab": {
      "provenance": [],
      "toc_visible": true,
      "authorship_tag": "ABX9TyOW+icLkd7p0kOuP1zkDv4x",
      "include_colab_link": true
    },
    "kernelspec": {
      "name": "python3",
      "display_name": "Python 3"
    },
    "language_info": {
      "name": "python"
    }
  },
  "cells": [
    {
      "cell_type": "markdown",
      "metadata": {
        "id": "view-in-github",
        "colab_type": "text"
      },
      "source": [
        "<a href=\"https://colab.research.google.com/github/zwelshman/collections/blob/main/learning-lab/notebooks/development_environment/PySpark_Development_Enviroment.ipynb\" target=\"_parent\"><img src=\"https://colab.research.google.com/assets/colab-badge.svg\" alt=\"Open In Colab\"/></a>"
      ]
    },
    {
      "cell_type": "markdown",
      "source": [
        "# PySpark Development Environment\n",
        "\n",
        "This notebooks aims to provide a quick development environment for PySpark"
      ],
      "metadata": {
        "id": "UgIjqQEldEhW"
      }
    },
    {
      "cell_type": "markdown",
      "source": [
        "Install dependencies and create a spark session:"
      ],
      "metadata": {
        "id": "zy9-VqeXcrpU"
      }
    },
    {
      "cell_type": "code",
      "source": [
        "!apt-get install openjdk-8-jdk-headless -qq > /dev/null\n",
        "!wget -q http://archive.apache.org/dist/spark/spark-3.1.1/spark-3.1.1-bin-hadoop3.2.tgz\n",
        "!tar xf spark-3.1.1-bin-hadoop3.2.tgz\n",
        "!pip install -q findspark\n",
        "\n",
        "import os\n",
        "os.environ[\"JAVA_HOME\"] = \"/usr/lib/jvm/java-8-openjdk-amd64\"\n",
        "os.environ[\"SPARK_HOME\"] = \"/content/spark-3.1.1-bin-hadoop3.2\"\n",
        "\n",
        "import findspark\n",
        "findspark.init()\n",
        "\n",
        "from pyspark.sql import SparkSession\n",
        "spark = SparkSession.builder.master(\"local[*]\").getOrCreate()\n",
        "spark.conf.set(\"spark.sql.repl.eagerEval.enabled\", True) # Property used to format output tables better\n",
        "spark"
      ],
      "metadata": {
        "colab": {
          "base_uri": "https://localhost:8080/",
          "height": 219
        },
        "id": "ATu4WM4Dcpka",
        "outputId": "6edac562-3a5e-4057-94c7-3a92d6c9406f"
      },
      "execution_count": null,
      "outputs": [
        {
          "output_type": "execute_result",
          "data": {
            "text/plain": [
              "<pyspark.sql.session.SparkSession at 0x7b694efeb2e0>"
            ],
            "text/html": [
              "\n",
              "            <div>\n",
              "                <p><b>SparkSession - in-memory</b></p>\n",
              "                \n",
              "        <div>\n",
              "            <p><b>SparkContext</b></p>\n",
              "\n",
              "            <p><a href=\"http://c6e8aac2b94e:4040\">Spark UI</a></p>\n",
              "\n",
              "            <dl>\n",
              "              <dt>Version</dt>\n",
              "                <dd><code>v3.1.1</code></dd>\n",
              "              <dt>Master</dt>\n",
              "                <dd><code>local[*]</code></dd>\n",
              "              <dt>AppName</dt>\n",
              "                <dd><code>pyspark-shell</code></dd>\n",
              "            </dl>\n",
              "        </div>\n",
              "        \n",
              "            </div>\n",
              "        "
            ]
          },
          "metadata": {},
          "execution_count": 1
        }
      ]
    },
    {
      "cell_type": "markdown",
      "source": [
        "Begin mocking out your idea!"
      ],
      "metadata": {
        "id": "deEuV7XKc1ZZ"
      }
    },
    {
      "cell_type": "code",
      "source": [
        "from pyspark.sql import functions as F\n",
        "\n",
        "df_a = (\n",
        "    spark.createDataFrame(\n",
        "        [\n",
        "            (\"1\", \"2020-02-01\", 1, 'A1'),\n",
        "            (\"1\", \"2021-02-11\", 2, 'A2'),\n",
        "            (\"1\", \"2020-02-01\", 3, 'B1'),\n",
        "\n",
        "            (\"2\", \"2020-02-01\", 1, 'A3'),\n",
        "            (\"2\", \"2021-02-23\", 2, 'B1'),\n",
        "            (\"2\", \"2020-05-01\", 3, None),\n",
        "\n",
        "            (\"3\", \"2020-01-01\", 1, 'A1'),\n",
        "            (\"3\", \"2021-02-23\", 2, 'B1'),\n",
        "            (\"3\", \"2020-05-01\", 3, 'B2'),\n",
        "\n",
        "            (\"4\", \"2020-01-01\", 1, 'A1'),\n",
        "            (\"4\", \"2021-02-23\", 2, 'A2'),\n",
        "            (\"4\", \"2020-05-01\", 3, 'A3'),\n",
        "        ],\n",
        "        ['person_id', 'date', 'diagnostic_position','diagnostic_code']\n",
        "    )\n",
        "    .withColumn('date', F.to_date(F.col('date')))\n",
        ")\n",
        "\n",
        "display(df_a)"
      ],
      "metadata": {
        "colab": {
          "base_uri": "https://localhost:8080/",
          "height": 325
        },
        "id": "-1BQ92U0cvbt",
        "outputId": "72475b8d-1d33-4398-9268-5806a439b529"
      },
      "execution_count": null,
      "outputs": [
        {
          "output_type": "display_data",
          "data": {
            "text/plain": [
              "+---------+----------+-------------------+---------------+\n",
              "|person_id|      date|diagnostic_position|diagnostic_code|\n",
              "+---------+----------+-------------------+---------------+\n",
              "|        1|2020-02-01|                  1|             A1|\n",
              "|        1|2021-02-11|                  2|             A2|\n",
              "|        1|2020-02-01|                  3|             B1|\n",
              "|        2|2020-02-01|                  1|             A3|\n",
              "|        2|2021-02-23|                  2|             B1|\n",
              "|        2|2020-05-01|                  3|           null|\n",
              "|        3|2020-01-01|                  1|             A1|\n",
              "|        3|2021-02-23|                  2|             B1|\n",
              "|        3|2020-05-01|                  3|             B2|\n",
              "|        4|2020-01-01|                  1|             A1|\n",
              "|        4|2021-02-23|                  2|             A2|\n",
              "|        4|2020-05-01|                  3|             A3|\n",
              "+---------+----------+-------------------+---------------+"
            ],
            "text/html": [
              "<table border='1'>\n",
              "<tr><th>person_id</th><th>date</th><th>diagnostic_position</th><th>diagnostic_code</th></tr>\n",
              "<tr><td>1</td><td>2020-02-01</td><td>1</td><td>A1</td></tr>\n",
              "<tr><td>1</td><td>2021-02-11</td><td>2</td><td>A2</td></tr>\n",
              "<tr><td>1</td><td>2020-02-01</td><td>3</td><td>B1</td></tr>\n",
              "<tr><td>2</td><td>2020-02-01</td><td>1</td><td>A3</td></tr>\n",
              "<tr><td>2</td><td>2021-02-23</td><td>2</td><td>B1</td></tr>\n",
              "<tr><td>2</td><td>2020-05-01</td><td>3</td><td>null</td></tr>\n",
              "<tr><td>3</td><td>2020-01-01</td><td>1</td><td>A1</td></tr>\n",
              "<tr><td>3</td><td>2021-02-23</td><td>2</td><td>B1</td></tr>\n",
              "<tr><td>3</td><td>2020-05-01</td><td>3</td><td>B2</td></tr>\n",
              "<tr><td>4</td><td>2020-01-01</td><td>1</td><td>A1</td></tr>\n",
              "<tr><td>4</td><td>2021-02-23</td><td>2</td><td>A2</td></tr>\n",
              "<tr><td>4</td><td>2020-05-01</td><td>3</td><td>A3</td></tr>\n",
              "</table>\n"
            ]
          },
          "metadata": {}
        }
      ]
    }
  ]
}