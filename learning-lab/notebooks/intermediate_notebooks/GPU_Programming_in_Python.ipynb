{
  "nbformat": 4,
  "nbformat_minor": 0,
  "metadata": {
    "colab": {
      "provenance": [],
      "gpuType": "T4",
      "mount_file_id": "1bAOUVN99EOGwguEi5fc7Ok5nCB4V-Irh",
      "authorship_tag": "ABX9TyMbplOFb0nXoVewiPNxonHQ",
      "include_colab_link": true
    },
    "kernelspec": {
      "name": "python3",
      "display_name": "Python 3"
    },
    "language_info": {
      "name": "python"
    },
    "accelerator": "GPU"
  },
  "cells": [
    {
      "cell_type": "markdown",
      "metadata": {
        "id": "view-in-github",
        "colab_type": "text"
      },
      "source": [
        "<a href=\"https://colab.research.google.com/github/zwelshman/collections/blob/main/learning-lab/notebooks/intermediate_notebooks/GPU_Programming_in_Python.ipynb\" target=\"_parent\"><img src=\"https://colab.research.google.com/assets/colab-badge.svg\" alt=\"Open In Colab\"/></a>"
      ]
    },
    {
      "cell_type": "markdown",
      "source": [
        "# GPU Programming in Python"
      ],
      "metadata": {
        "id": "gzpqKtfwawQl"
      }
    },
    {
      "cell_type": "markdown",
      "source": [
        ">[GPU Programming in Python](#folderId=0AANsvuOjvxf5Uk9PVA&updateTitle=true&scrollTo=gzpqKtfwawQl)\n",
        "\n",
        ">>[Environment Setup](#folderId=0AANsvuOjvxf5Uk9PVA&updateTitle=true&scrollTo=aeaUKTgua0Ur)\n",
        "\n",
        ">>[TODO Plan content to cover](#folderId=0AANsvuOjvxf5Uk9PVA&updateTitle=true&scrollTo=Vu4h3mR3cQz3)\n",
        "\n"
      ],
      "metadata": {
        "colab_type": "toc",
        "id": "JQF9qQlBox01"
      }
    },
    {
      "cell_type": "markdown",
      "source": [
        "## Environment Setup\n",
        "\n",
        "1. Click the Runtime Colab Tab.\n",
        "2. Click Change runtime type.\n",
        "3. Select T4 GPU.\n",
        "5. Save."
      ],
      "metadata": {
        "id": "aeaUKTgua0Ur"
      }
    },
    {
      "cell_type": "markdown",
      "source": [
        "Let's take a look at the NVDIA monitoring command using ```!nvidia-smi```"
      ],
      "metadata": {
        "id": "-OW3Gbbrd91A"
      }
    },
    {
      "cell_type": "code",
      "source": [
        "!nvidia-smi"
      ],
      "metadata": {
        "colab": {
          "base_uri": "https://localhost:8080/"
        },
        "id": "okWmRTRJa3kA",
        "outputId": "44733026-0a28-4e33-c45c-88af376f5283"
      },
      "execution_count": null,
      "outputs": [
        {
          "output_type": "stream",
          "name": "stdout",
          "text": [
            "Fri Feb 23 10:07:17 2024       \n",
            "+---------------------------------------------------------------------------------------+\n",
            "| NVIDIA-SMI 535.104.05             Driver Version: 535.104.05   CUDA Version: 12.2     |\n",
            "|-----------------------------------------+----------------------+----------------------+\n",
            "| GPU  Name                 Persistence-M | Bus-Id        Disp.A | Volatile Uncorr. ECC |\n",
            "| Fan  Temp   Perf          Pwr:Usage/Cap |         Memory-Usage | GPU-Util  Compute M. |\n",
            "|                                         |                      |               MIG M. |\n",
            "|=========================================+======================+======================|\n",
            "|   0  Tesla T4                       Off | 00000000:00:04.0 Off |                    0 |\n",
            "| N/A   69C    P8              12W /  70W |      0MiB / 15360MiB |      0%      Default |\n",
            "|                                         |                      |                  N/A |\n",
            "+-----------------------------------------+----------------------+----------------------+\n",
            "                                                                                         \n",
            "+---------------------------------------------------------------------------------------+\n",
            "| Processes:                                                                            |\n",
            "|  GPU   GI   CI        PID   Type   Process name                            GPU Memory |\n",
            "|        ID   ID                                                             Usage      |\n",
            "|=======================================================================================|\n",
            "|  No running processes found                                                           |\n",
            "+---------------------------------------------------------------------------------------+\n"
          ]
        }
      ]
    },
    {
      "cell_type": "code",
      "source": [
        "import torch\n",
        "#Does Pytorch recognise the GPU?\n",
        "torch.cuda.is_available()"
      ],
      "metadata": {
        "colab": {
          "base_uri": "https://localhost:8080/"
        },
        "id": "2ag9J2Gibt_w",
        "outputId": "50583af1-a707-4b91-ab40-23a7ead138e2"
      },
      "execution_count": null,
      "outputs": [
        {
          "output_type": "execute_result",
          "data": {
            "text/plain": [
              "True"
            ]
          },
          "metadata": {},
          "execution_count": 8
        }
      ]
    },
    {
      "cell_type": "markdown",
      "source": [
        "## TODO Plan content to cover"
      ],
      "metadata": {
        "id": "Vu4h3mR3cQz3"
      }
    },
    {
      "cell_type": "code",
      "source": [],
      "metadata": {
        "id": "6N2tbAPtdfXV"
      },
      "execution_count": null,
      "outputs": []
    }
  ]
}