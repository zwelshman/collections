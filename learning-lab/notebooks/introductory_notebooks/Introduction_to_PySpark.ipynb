{
  "nbformat": 4,
  "nbformat_minor": 0,
  "metadata": {
    "colab": {
      "provenance": [],
      "toc_visible": true,
      "authorship_tag": "ABX9TyN10GLbOmOy0RYVyBo+Vykq",
      "include_colab_link": true
    },
    "kernelspec": {
      "name": "python3",
      "display_name": "Python 3"
    },
    "language_info": {
      "name": "python"
    }
  },
  "cells": [
    {
      "cell_type": "markdown",
      "metadata": {
        "id": "view-in-github",
        "colab_type": "text"
      },
      "source": [
        "<a href=\"https://colab.research.google.com/github/zwelshman/collections/blob/main/learning-lab/notebooks/introductory_notebooks/Introduction_to_PySpark.ipynb\" target=\"_parent\"><img src=\"https://colab.research.google.com/assets/colab-badge.svg\" alt=\"Open In Colab\"/></a>"
      ]
    },
    {
      "cell_type": "markdown",
      "source": [
        "# Introduction to PySpark"
      ],
      "metadata": {
        "id": "dN2P6MM-sefz"
      }
    },
    {
      "cell_type": "markdown",
      "source": [
        "## Set up back end for a spark session"
      ],
      "metadata": {
        "id": "592A9q0zspFw"
      }
    },
    {
      "cell_type": "code",
      "source": [
        "!apt-get install openjdk-8-jdk-headless -qq > /dev/null\n",
        "!wget -q http://archive.apache.org/dist/spark/spark-3.1.1/spark-3.1.1-bin-hadoop3.2.tgz\n",
        "!tar xf spark-3.1.1-bin-hadoop3.2.tgz\n",
        "!pip install -q findspark\n",
        "\n",
        "import os\n",
        "os.environ[\"JAVA_HOME\"] = \"/usr/lib/jvm/java-8-openjdk-amd64\"\n",
        "os.environ[\"SPARK_HOME\"] = \"/content/spark-3.1.1-bin-hadoop3.2\"\n",
        "\n",
        "import findspark\n",
        "findspark.init()\n",
        "\n",
        "from pyspark.sql import SparkSession\n",
        "spark = SparkSession.builder.master(\"local[*]\").getOrCreate()\n",
        "spark.conf.set(\"spark.sql.repl.eagerEval.enabled\", True) # Property used to format output tables better\n",
        "spark"
      ],
      "metadata": {
        "id": "_wv3PMuhsoEI",
        "colab": {
          "base_uri": "https://localhost:8080/",
          "height": 221
        },
        "outputId": "8895e7c0-fbc1-4f60-8ec9-06f3c1e113e0"
      },
      "execution_count": null,
      "outputs": [
        {
          "output_type": "execute_result",
          "data": {
            "text/plain": [
              "<pyspark.sql.session.SparkSession at 0x7c5476ff32b0>"
            ],
            "text/html": [
              "\n",
              "            <div>\n",
              "                <p><b>SparkSession - in-memory</b></p>\n",
              "                \n",
              "        <div>\n",
              "            <p><b>SparkContext</b></p>\n",
              "\n",
              "            <p><a href=\"http://da1244c5b635:4040\">Spark UI</a></p>\n",
              "\n",
              "            <dl>\n",
              "              <dt>Version</dt>\n",
              "                <dd><code>v3.1.1</code></dd>\n",
              "              <dt>Master</dt>\n",
              "                <dd><code>local[*]</code></dd>\n",
              "              <dt>AppName</dt>\n",
              "                <dd><code>pyspark-shell</code></dd>\n",
              "            </dl>\n",
              "        </div>\n",
              "        \n",
              "            </div>\n",
              "        "
            ]
          },
          "metadata": {},
          "execution_count": 1
        }
      ]
    },
    {
      "cell_type": "code",
      "execution_count": null,
      "metadata": {
        "id": "R8l9h7OMJJhM",
        "colab": {
          "base_uri": "https://localhost:8080/",
          "height": 325
        },
        "outputId": "576bb943-d53d-4e85-ca95-f8d6e5962282"
      },
      "outputs": [
        {
          "output_type": "display_data",
          "data": {
            "text/plain": [
              "+---------+----------+-------------------+---------------+\n",
              "|person_id|      date|diagnostic_position|diagnostic_code|\n",
              "+---------+----------+-------------------+---------------+\n",
              "|        1|2020-02-01|                  1|             A1|\n",
              "|        1|2021-02-11|                  2|             A2|\n",
              "|        1|2020-02-01|                  3|             B1|\n",
              "|        2|2020-02-01|                  1|             A3|\n",
              "|        2|2021-02-23|                  2|             B1|\n",
              "|        2|2020-05-01|                  3|           null|\n",
              "|        3|2020-01-01|                  1|             A1|\n",
              "|        3|2021-02-23|                  2|             B1|\n",
              "|        3|2020-05-01|                  3|             B2|\n",
              "|        4|2020-01-01|                  1|             A1|\n",
              "|        4|2021-02-23|                  2|             A2|\n",
              "|        4|2020-05-01|                  3|             A3|\n",
              "+---------+----------+-------------------+---------------+"
            ],
            "text/html": [
              "<table border='1'>\n",
              "<tr><th>person_id</th><th>date</th><th>diagnostic_position</th><th>diagnostic_code</th></tr>\n",
              "<tr><td>1</td><td>2020-02-01</td><td>1</td><td>A1</td></tr>\n",
              "<tr><td>1</td><td>2021-02-11</td><td>2</td><td>A2</td></tr>\n",
              "<tr><td>1</td><td>2020-02-01</td><td>3</td><td>B1</td></tr>\n",
              "<tr><td>2</td><td>2020-02-01</td><td>1</td><td>A3</td></tr>\n",
              "<tr><td>2</td><td>2021-02-23</td><td>2</td><td>B1</td></tr>\n",
              "<tr><td>2</td><td>2020-05-01</td><td>3</td><td>null</td></tr>\n",
              "<tr><td>3</td><td>2020-01-01</td><td>1</td><td>A1</td></tr>\n",
              "<tr><td>3</td><td>2021-02-23</td><td>2</td><td>B1</td></tr>\n",
              "<tr><td>3</td><td>2020-05-01</td><td>3</td><td>B2</td></tr>\n",
              "<tr><td>4</td><td>2020-01-01</td><td>1</td><td>A1</td></tr>\n",
              "<tr><td>4</td><td>2021-02-23</td><td>2</td><td>A2</td></tr>\n",
              "<tr><td>4</td><td>2020-05-01</td><td>3</td><td>A3</td></tr>\n",
              "</table>\n"
            ]
          },
          "metadata": {}
        }
      ],
      "source": [
        "from pyspark.sql import functions as F\n",
        "\n",
        "df_a = (\n",
        "    spark.createDataFrame(\n",
        "        [\n",
        "            (\"1\", \"2020-02-01\", 1, 'A1'),\n",
        "            (\"1\", \"2021-02-11\", 2, 'A2'),\n",
        "            (\"1\", \"2020-02-01\", 3, 'B1'),\n",
        "\n",
        "            (\"2\", \"2020-02-01\", 1, 'A3'),\n",
        "            (\"2\", \"2021-02-23\", 2, 'B1'),\n",
        "            (\"2\", \"2020-05-01\", 3, None),\n",
        "\n",
        "            (\"3\", \"2020-01-01\", 1, 'A1'),\n",
        "            (\"3\", \"2021-02-23\", 2, 'B1'),\n",
        "            (\"3\", \"2020-05-01\", 3, 'B2'),\n",
        "\n",
        "            (\"4\", \"2020-01-01\", 1, 'A1'),\n",
        "            (\"4\", \"2021-02-23\", 2, 'A2'),\n",
        "            (\"4\", \"2020-05-01\", 3, 'A3'),\n",
        "        ],\n",
        "        ['person_id', 'date', 'diagnostic_position','diagnostic_code']\n",
        "    )\n",
        "    .withColumn('date', F.to_date(F.col('date')))\n",
        ")\n",
        "\n",
        "display(df_a)"
      ]
    },
    {
      "cell_type": "code",
      "source": [
        "from pyspark.sql import functions as F\n",
        "\n",
        "df_b = (\n",
        "    spark.createDataFrame(\n",
        "        [\n",
        "            ('A1', 'include'),\n",
        "            ('A2', 'include'),\n",
        "            ('A3', 'include'),\n",
        "            ('B1', 'exclude'),\n",
        "            ('B2', 'exclude'),\n",
        "            ('B3', 'include'),\n",
        "        ],\n",
        "        ['diagnostic_code', 'category']\n",
        "    )\n",
        "    # .withColumn('date', F.to_date(F.col('date')))\n",
        ")\n",
        "\n",
        "display(df_b)"
      ],
      "metadata": {
        "id": "N7i0IQ0bswex",
        "colab": {
          "base_uri": "https://localhost:8080/",
          "height": 185
        },
        "outputId": "a7600639-f3c1-415f-fa81-20de97c2793a"
      },
      "execution_count": null,
      "outputs": [
        {
          "output_type": "display_data",
          "data": {
            "text/plain": [
              "+---------------+--------+\n",
              "|diagnostic_code|category|\n",
              "+---------------+--------+\n",
              "|             A1| include|\n",
              "|             A2| include|\n",
              "|             A3| include|\n",
              "|             B1| exclude|\n",
              "|             B2| exclude|\n",
              "|             B3| include|\n",
              "+---------------+--------+"
            ],
            "text/html": [
              "<table border='1'>\n",
              "<tr><th>diagnostic_code</th><th>category</th></tr>\n",
              "<tr><td>A1</td><td>include</td></tr>\n",
              "<tr><td>A2</td><td>include</td></tr>\n",
              "<tr><td>A3</td><td>include</td></tr>\n",
              "<tr><td>B1</td><td>exclude</td></tr>\n",
              "<tr><td>B2</td><td>exclude</td></tr>\n",
              "<tr><td>B3</td><td>include</td></tr>\n",
              "</table>\n"
            ]
          },
          "metadata": {}
        }
      ]
    },
    {
      "cell_type": "code",
      "source": [
        "from pyspark.sql import functions as F\n",
        "\n",
        "# Assuming df_a and df_b are the DataFrames corresponding to 'a' and 'b' respectively\n",
        "# Joining on the diagnostic code\n",
        "df_joined = df_a.join(df_b, df_a.diagnostic_code == df_b.diagnostic_code, \"inner\")\n",
        "display(df_joined)\n"
      ],
      "metadata": {
        "colab": {
          "base_uri": "https://localhost:8080/",
          "height": 301
        },
        "id": "ISrDVFvFxeSJ",
        "outputId": "75c9de11-4128-468f-ca75-14b6eb9f126a"
      },
      "execution_count": null,
      "outputs": [
        {
          "output_type": "display_data",
          "data": {
            "text/plain": [
              "+---------+----------+-------------------+---------------+---------------+--------+\n",
              "|person_id|      date|diagnostic_position|diagnostic_code|diagnostic_code|category|\n",
              "+---------+----------+-------------------+---------------+---------------+--------+\n",
              "|        1|2021-02-11|                  2|             A2|             A2| include|\n",
              "|        4|2021-02-23|                  2|             A2|             A2| include|\n",
              "|        3|2020-05-01|                  3|             B2|             B2| exclude|\n",
              "|        1|2020-02-01|                  3|             B1|             B1| exclude|\n",
              "|        2|2021-02-23|                  2|             B1|             B1| exclude|\n",
              "|        3|2021-02-23|                  2|             B1|             B1| exclude|\n",
              "|        2|2020-02-01|                  1|             A3|             A3| include|\n",
              "|        4|2020-05-01|                  3|             A3|             A3| include|\n",
              "|        1|2020-02-01|                  1|             A1|             A1| include|\n",
              "|        3|2020-01-01|                  1|             A1|             A1| include|\n",
              "|        4|2020-01-01|                  1|             A1|             A1| include|\n",
              "+---------+----------+-------------------+---------------+---------------+--------+"
            ],
            "text/html": [
              "<table border='1'>\n",
              "<tr><th>person_id</th><th>date</th><th>diagnostic_position</th><th>diagnostic_code</th><th>diagnostic_code</th><th>category</th></tr>\n",
              "<tr><td>1</td><td>2021-02-11</td><td>2</td><td>A2</td><td>A2</td><td>include</td></tr>\n",
              "<tr><td>4</td><td>2021-02-23</td><td>2</td><td>A2</td><td>A2</td><td>include</td></tr>\n",
              "<tr><td>3</td><td>2020-05-01</td><td>3</td><td>B2</td><td>B2</td><td>exclude</td></tr>\n",
              "<tr><td>1</td><td>2020-02-01</td><td>3</td><td>B1</td><td>B1</td><td>exclude</td></tr>\n",
              "<tr><td>2</td><td>2021-02-23</td><td>2</td><td>B1</td><td>B1</td><td>exclude</td></tr>\n",
              "<tr><td>3</td><td>2021-02-23</td><td>2</td><td>B1</td><td>B1</td><td>exclude</td></tr>\n",
              "<tr><td>2</td><td>2020-02-01</td><td>1</td><td>A3</td><td>A3</td><td>include</td></tr>\n",
              "<tr><td>4</td><td>2020-05-01</td><td>3</td><td>A3</td><td>A3</td><td>include</td></tr>\n",
              "<tr><td>1</td><td>2020-02-01</td><td>1</td><td>A1</td><td>A1</td><td>include</td></tr>\n",
              "<tr><td>3</td><td>2020-01-01</td><td>1</td><td>A1</td><td>A1</td><td>include</td></tr>\n",
              "<tr><td>4</td><td>2020-01-01</td><td>1</td><td>A1</td><td>A1</td><td>include</td></tr>\n",
              "</table>\n"
            ]
          },
          "metadata": {}
        }
      ]
    },
    {
      "cell_type": "code",
      "source": [
        "df_joined = df_joined.withColumn(\"include_flag\",\n",
        "                                 F.when((F.col(\"diagnostic_position\") == 1) &\n",
        "                                        (F.col(\"category\") == \"include\"), 1)\n",
        "                                 .otherwise(0))\n",
        "display(df_joined)"
      ],
      "metadata": {
        "colab": {
          "base_uri": "https://localhost:8080/",
          "height": 301
        },
        "id": "M5kIDJ8zx2fK",
        "outputId": "8fb87677-80ab-4896-de28-1f0204177f37"
      },
      "execution_count": null,
      "outputs": [
        {
          "output_type": "display_data",
          "data": {
            "text/plain": [
              "+---------+----------+-------------------+---------------+---------------+--------+------------+\n",
              "|person_id|      date|diagnostic_position|diagnostic_code|diagnostic_code|category|include_flag|\n",
              "+---------+----------+-------------------+---------------+---------------+--------+------------+\n",
              "|        1|2021-02-11|                  2|             A2|             A2| include|           0|\n",
              "|        4|2021-02-23|                  2|             A2|             A2| include|           0|\n",
              "|        3|2020-05-01|                  3|             B2|             B2| exclude|           0|\n",
              "|        1|2020-02-01|                  3|             B1|             B1| exclude|           0|\n",
              "|        2|2021-02-23|                  2|             B1|             B1| exclude|           0|\n",
              "|        3|2021-02-23|                  2|             B1|             B1| exclude|           0|\n",
              "|        2|2020-02-01|                  1|             A3|             A3| include|           1|\n",
              "|        4|2020-05-01|                  3|             A3|             A3| include|           0|\n",
              "|        1|2020-02-01|                  1|             A1|             A1| include|           1|\n",
              "|        3|2020-01-01|                  1|             A1|             A1| include|           1|\n",
              "|        4|2020-01-01|                  1|             A1|             A1| include|           1|\n",
              "+---------+----------+-------------------+---------------+---------------+--------+------------+"
            ],
            "text/html": [
              "<table border='1'>\n",
              "<tr><th>person_id</th><th>date</th><th>diagnostic_position</th><th>diagnostic_code</th><th>diagnostic_code</th><th>category</th><th>include_flag</th></tr>\n",
              "<tr><td>1</td><td>2021-02-11</td><td>2</td><td>A2</td><td>A2</td><td>include</td><td>0</td></tr>\n",
              "<tr><td>4</td><td>2021-02-23</td><td>2</td><td>A2</td><td>A2</td><td>include</td><td>0</td></tr>\n",
              "<tr><td>3</td><td>2020-05-01</td><td>3</td><td>B2</td><td>B2</td><td>exclude</td><td>0</td></tr>\n",
              "<tr><td>1</td><td>2020-02-01</td><td>3</td><td>B1</td><td>B1</td><td>exclude</td><td>0</td></tr>\n",
              "<tr><td>2</td><td>2021-02-23</td><td>2</td><td>B1</td><td>B1</td><td>exclude</td><td>0</td></tr>\n",
              "<tr><td>3</td><td>2021-02-23</td><td>2</td><td>B1</td><td>B1</td><td>exclude</td><td>0</td></tr>\n",
              "<tr><td>2</td><td>2020-02-01</td><td>1</td><td>A3</td><td>A3</td><td>include</td><td>1</td></tr>\n",
              "<tr><td>4</td><td>2020-05-01</td><td>3</td><td>A3</td><td>A3</td><td>include</td><td>0</td></tr>\n",
              "<tr><td>1</td><td>2020-02-01</td><td>1</td><td>A1</td><td>A1</td><td>include</td><td>1</td></tr>\n",
              "<tr><td>3</td><td>2020-01-01</td><td>1</td><td>A1</td><td>A1</td><td>include</td><td>1</td></tr>\n",
              "<tr><td>4</td><td>2020-01-01</td><td>1</td><td>A1</td><td>A1</td><td>include</td><td>1</td></tr>\n",
              "</table>\n"
            ]
          },
          "metadata": {}
        }
      ]
    },
    {
      "cell_type": "code",
      "source": [
        "df_b_values = df_joined.filter((F.col(\"category\") == \"exclude\") & (F.col(\"diagnostic_position\") > 1))\n",
        "display(df_b_values )"
      ],
      "metadata": {
        "colab": {
          "base_uri": "https://localhost:8080/",
          "height": 138
        },
        "id": "AAplsitpx71X",
        "outputId": "e0236e9c-3cfc-4cbb-bf04-11a98267b9e6"
      },
      "execution_count": null,
      "outputs": [
        {
          "output_type": "display_data",
          "data": {
            "text/plain": [
              "+---------+----------+-------------------+---------------+---------------+--------+------------+\n",
              "|person_id|      date|diagnostic_position|diagnostic_code|diagnostic_code|category|include_flag|\n",
              "+---------+----------+-------------------+---------------+---------------+--------+------------+\n",
              "|        3|2020-05-01|                  3|             B2|             B2| exclude|           0|\n",
              "|        1|2020-02-01|                  3|             B1|             B1| exclude|           0|\n",
              "|        2|2021-02-23|                  2|             B1|             B1| exclude|           0|\n",
              "|        3|2021-02-23|                  2|             B1|             B1| exclude|           0|\n",
              "+---------+----------+-------------------+---------------+---------------+--------+------------+"
            ],
            "text/html": [
              "<table border='1'>\n",
              "<tr><th>person_id</th><th>date</th><th>diagnostic_position</th><th>diagnostic_code</th><th>diagnostic_code</th><th>category</th><th>include_flag</th></tr>\n",
              "<tr><td>3</td><td>2020-05-01</td><td>3</td><td>B2</td><td>B2</td><td>exclude</td><td>0</td></tr>\n",
              "<tr><td>1</td><td>2020-02-01</td><td>3</td><td>B1</td><td>B1</td><td>exclude</td><td>0</td></tr>\n",
              "<tr><td>2</td><td>2021-02-23</td><td>2</td><td>B1</td><td>B1</td><td>exclude</td><td>0</td></tr>\n",
              "<tr><td>3</td><td>2021-02-23</td><td>2</td><td>B1</td><td>B1</td><td>exclude</td><td>0</td></tr>\n",
              "</table>\n"
            ]
          },
          "metadata": {}
        }
      ]
    },
    {
      "cell_type": "code",
      "source": [
        "# Self-join to find patients with both A and B values\n",
        "df_self_joined = df_joined.alias(\"df1\").join(df_b_values.alias(\"df2\"), F.col(\"df1.person_id\") == F.col(\"df2.person_id\"), \"inner\")\n",
        "display(df_self_joined )\n"
      ],
      "metadata": {
        "colab": {
          "base_uri": "https://localhost:8080/",
          "height": 512
        },
        "id": "oSBpfysQyG5E",
        "outputId": "e49721cb-e82f-4f85-b01e-f5052aec9419"
      },
      "execution_count": null,
      "outputs": [
        {
          "output_type": "display_data",
          "data": {
            "text/plain": [
              "+---------+----------+-------------------+---------------+---------------+--------+------------+---------+----------+-------------------+---------------+---------------+--------+------------+\n",
              "|person_id|      date|diagnostic_position|diagnostic_code|diagnostic_code|category|include_flag|person_id|      date|diagnostic_position|diagnostic_code|diagnostic_code|category|include_flag|\n",
              "+---------+----------+-------------------+---------------+---------------+--------+------------+---------+----------+-------------------+---------------+---------------+--------+------------+\n",
              "|        3|2020-05-01|                  3|             B2|             B2| exclude|           0|        3|2020-05-01|                  3|             B2|             B2| exclude|           0|\n",
              "|        3|2020-05-01|                  3|             B2|             B2| exclude|           0|        3|2021-02-23|                  2|             B1|             B1| exclude|           0|\n",
              "|        3|2021-02-23|                  2|             B1|             B1| exclude|           0|        3|2020-05-01|                  3|             B2|             B2| exclude|           0|\n",
              "|        3|2021-02-23|                  2|             B1|             B1| exclude|           0|        3|2021-02-23|                  2|             B1|             B1| exclude|           0|\n",
              "|        3|2020-01-01|                  1|             A1|             A1| include|           1|        3|2020-05-01|                  3|             B2|             B2| exclude|           0|\n",
              "|        3|2020-01-01|                  1|             A1|             A1| include|           1|        3|2021-02-23|                  2|             B1|             B1| exclude|           0|\n",
              "|        1|2021-02-11|                  2|             A2|             A2| include|           0|        1|2020-02-01|                  3|             B1|             B1| exclude|           0|\n",
              "|        1|2020-02-01|                  3|             B1|             B1| exclude|           0|        1|2020-02-01|                  3|             B1|             B1| exclude|           0|\n",
              "|        1|2020-02-01|                  1|             A1|             A1| include|           1|        1|2020-02-01|                  3|             B1|             B1| exclude|           0|\n",
              "|        2|2021-02-23|                  2|             B1|             B1| exclude|           0|        2|2021-02-23|                  2|             B1|             B1| exclude|           0|\n",
              "|        2|2020-02-01|                  1|             A3|             A3| include|           1|        2|2021-02-23|                  2|             B1|             B1| exclude|           0|\n",
              "+---------+----------+-------------------+---------------+---------------+--------+------------+---------+----------+-------------------+---------------+---------------+--------+------------+"
            ],
            "text/html": [
              "<table border='1'>\n",
              "<tr><th>person_id</th><th>date</th><th>diagnostic_position</th><th>diagnostic_code</th><th>diagnostic_code</th><th>category</th><th>include_flag</th><th>person_id</th><th>date</th><th>diagnostic_position</th><th>diagnostic_code</th><th>diagnostic_code</th><th>category</th><th>include_flag</th></tr>\n",
              "<tr><td>3</td><td>2020-05-01</td><td>3</td><td>B2</td><td>B2</td><td>exclude</td><td>0</td><td>3</td><td>2020-05-01</td><td>3</td><td>B2</td><td>B2</td><td>exclude</td><td>0</td></tr>\n",
              "<tr><td>3</td><td>2020-05-01</td><td>3</td><td>B2</td><td>B2</td><td>exclude</td><td>0</td><td>3</td><td>2021-02-23</td><td>2</td><td>B1</td><td>B1</td><td>exclude</td><td>0</td></tr>\n",
              "<tr><td>3</td><td>2021-02-23</td><td>2</td><td>B1</td><td>B1</td><td>exclude</td><td>0</td><td>3</td><td>2020-05-01</td><td>3</td><td>B2</td><td>B2</td><td>exclude</td><td>0</td></tr>\n",
              "<tr><td>3</td><td>2021-02-23</td><td>2</td><td>B1</td><td>B1</td><td>exclude</td><td>0</td><td>3</td><td>2021-02-23</td><td>2</td><td>B1</td><td>B1</td><td>exclude</td><td>0</td></tr>\n",
              "<tr><td>3</td><td>2020-01-01</td><td>1</td><td>A1</td><td>A1</td><td>include</td><td>1</td><td>3</td><td>2020-05-01</td><td>3</td><td>B2</td><td>B2</td><td>exclude</td><td>0</td></tr>\n",
              "<tr><td>3</td><td>2020-01-01</td><td>1</td><td>A1</td><td>A1</td><td>include</td><td>1</td><td>3</td><td>2021-02-23</td><td>2</td><td>B1</td><td>B1</td><td>exclude</td><td>0</td></tr>\n",
              "<tr><td>1</td><td>2021-02-11</td><td>2</td><td>A2</td><td>A2</td><td>include</td><td>0</td><td>1</td><td>2020-02-01</td><td>3</td><td>B1</td><td>B1</td><td>exclude</td><td>0</td></tr>\n",
              "<tr><td>1</td><td>2020-02-01</td><td>3</td><td>B1</td><td>B1</td><td>exclude</td><td>0</td><td>1</td><td>2020-02-01</td><td>3</td><td>B1</td><td>B1</td><td>exclude</td><td>0</td></tr>\n",
              "<tr><td>1</td><td>2020-02-01</td><td>1</td><td>A1</td><td>A1</td><td>include</td><td>1</td><td>1</td><td>2020-02-01</td><td>3</td><td>B1</td><td>B1</td><td>exclude</td><td>0</td></tr>\n",
              "<tr><td>2</td><td>2021-02-23</td><td>2</td><td>B1</td><td>B1</td><td>exclude</td><td>0</td><td>2</td><td>2021-02-23</td><td>2</td><td>B1</td><td>B1</td><td>exclude</td><td>0</td></tr>\n",
              "<tr><td>2</td><td>2020-02-01</td><td>1</td><td>A3</td><td>A3</td><td>include</td><td>1</td><td>2</td><td>2021-02-23</td><td>2</td><td>B1</td><td>B1</td><td>exclude</td><td>0</td></tr>\n",
              "</table>\n"
            ]
          },
          "metadata": {}
        }
      ]
    },
    {
      "cell_type": "code",
      "source": [
        "# Calculate the date difference where df1 has A values and df2 has B values\n",
        "df_self_joined = df_self_joined.withColumn(\"date_diff\",\n",
        "                                           F.datediff(F.col(\"df2.date\"), F.col(\"df1.date\")))\n",
        "display(df_self_joined )"
      ],
      "metadata": {
        "colab": {
          "base_uri": "https://localhost:8080/",
          "height": 512
        },
        "id": "oW3BK1pGzHAC",
        "outputId": "b5b7765f-1f74-4afc-b580-cfa129e3c484"
      },
      "execution_count": null,
      "outputs": [
        {
          "output_type": "display_data",
          "data": {
            "text/plain": [
              "+---------+----------+-------------------+---------------+---------------+--------+------------+---------+----------+-------------------+---------------+---------------+--------+------------+---------+\n",
              "|person_id|      date|diagnostic_position|diagnostic_code|diagnostic_code|category|include_flag|person_id|      date|diagnostic_position|diagnostic_code|diagnostic_code|category|include_flag|date_diff|\n",
              "+---------+----------+-------------------+---------------+---------------+--------+------------+---------+----------+-------------------+---------------+---------------+--------+------------+---------+\n",
              "|        3|2020-05-01|                  3|             B2|             B2| exclude|           0|        3|2020-05-01|                  3|             B2|             B2| exclude|           0|        0|\n",
              "|        3|2020-05-01|                  3|             B2|             B2| exclude|           0|        3|2021-02-23|                  2|             B1|             B1| exclude|           0|      298|\n",
              "|        3|2021-02-23|                  2|             B1|             B1| exclude|           0|        3|2020-05-01|                  3|             B2|             B2| exclude|           0|     -298|\n",
              "|        3|2021-02-23|                  2|             B1|             B1| exclude|           0|        3|2021-02-23|                  2|             B1|             B1| exclude|           0|        0|\n",
              "|        3|2020-01-01|                  1|             A1|             A1| include|           1|        3|2020-05-01|                  3|             B2|             B2| exclude|           0|      121|\n",
              "|        3|2020-01-01|                  1|             A1|             A1| include|           1|        3|2021-02-23|                  2|             B1|             B1| exclude|           0|      419|\n",
              "|        1|2021-02-11|                  2|             A2|             A2| include|           0|        1|2020-02-01|                  3|             B1|             B1| exclude|           0|     -376|\n",
              "|        1|2020-02-01|                  3|             B1|             B1| exclude|           0|        1|2020-02-01|                  3|             B1|             B1| exclude|           0|        0|\n",
              "|        1|2020-02-01|                  1|             A1|             A1| include|           1|        1|2020-02-01|                  3|             B1|             B1| exclude|           0|        0|\n",
              "|        2|2021-02-23|                  2|             B1|             B1| exclude|           0|        2|2021-02-23|                  2|             B1|             B1| exclude|           0|        0|\n",
              "|        2|2020-02-01|                  1|             A3|             A3| include|           1|        2|2021-02-23|                  2|             B1|             B1| exclude|           0|      388|\n",
              "+---------+----------+-------------------+---------------+---------------+--------+------------+---------+----------+-------------------+---------------+---------------+--------+------------+---------+"
            ],
            "text/html": [
              "<table border='1'>\n",
              "<tr><th>person_id</th><th>date</th><th>diagnostic_position</th><th>diagnostic_code</th><th>diagnostic_code</th><th>category</th><th>include_flag</th><th>person_id</th><th>date</th><th>diagnostic_position</th><th>diagnostic_code</th><th>diagnostic_code</th><th>category</th><th>include_flag</th><th>date_diff</th></tr>\n",
              "<tr><td>3</td><td>2020-05-01</td><td>3</td><td>B2</td><td>B2</td><td>exclude</td><td>0</td><td>3</td><td>2020-05-01</td><td>3</td><td>B2</td><td>B2</td><td>exclude</td><td>0</td><td>0</td></tr>\n",
              "<tr><td>3</td><td>2020-05-01</td><td>3</td><td>B2</td><td>B2</td><td>exclude</td><td>0</td><td>3</td><td>2021-02-23</td><td>2</td><td>B1</td><td>B1</td><td>exclude</td><td>0</td><td>298</td></tr>\n",
              "<tr><td>3</td><td>2021-02-23</td><td>2</td><td>B1</td><td>B1</td><td>exclude</td><td>0</td><td>3</td><td>2020-05-01</td><td>3</td><td>B2</td><td>B2</td><td>exclude</td><td>0</td><td>-298</td></tr>\n",
              "<tr><td>3</td><td>2021-02-23</td><td>2</td><td>B1</td><td>B1</td><td>exclude</td><td>0</td><td>3</td><td>2021-02-23</td><td>2</td><td>B1</td><td>B1</td><td>exclude</td><td>0</td><td>0</td></tr>\n",
              "<tr><td>3</td><td>2020-01-01</td><td>1</td><td>A1</td><td>A1</td><td>include</td><td>1</td><td>3</td><td>2020-05-01</td><td>3</td><td>B2</td><td>B2</td><td>exclude</td><td>0</td><td>121</td></tr>\n",
              "<tr><td>3</td><td>2020-01-01</td><td>1</td><td>A1</td><td>A1</td><td>include</td><td>1</td><td>3</td><td>2021-02-23</td><td>2</td><td>B1</td><td>B1</td><td>exclude</td><td>0</td><td>419</td></tr>\n",
              "<tr><td>1</td><td>2021-02-11</td><td>2</td><td>A2</td><td>A2</td><td>include</td><td>0</td><td>1</td><td>2020-02-01</td><td>3</td><td>B1</td><td>B1</td><td>exclude</td><td>0</td><td>-376</td></tr>\n",
              "<tr><td>1</td><td>2020-02-01</td><td>3</td><td>B1</td><td>B1</td><td>exclude</td><td>0</td><td>1</td><td>2020-02-01</td><td>3</td><td>B1</td><td>B1</td><td>exclude</td><td>0</td><td>0</td></tr>\n",
              "<tr><td>1</td><td>2020-02-01</td><td>1</td><td>A1</td><td>A1</td><td>include</td><td>1</td><td>1</td><td>2020-02-01</td><td>3</td><td>B1</td><td>B1</td><td>exclude</td><td>0</td><td>0</td></tr>\n",
              "<tr><td>2</td><td>2021-02-23</td><td>2</td><td>B1</td><td>B1</td><td>exclude</td><td>0</td><td>2</td><td>2021-02-23</td><td>2</td><td>B1</td><td>B1</td><td>exclude</td><td>0</td><td>0</td></tr>\n",
              "<tr><td>2</td><td>2020-02-01</td><td>1</td><td>A3</td><td>A3</td><td>include</td><td>1</td><td>2</td><td>2021-02-23</td><td>2</td><td>B1</td><td>B1</td><td>exclude</td><td>0</td><td>388</td></tr>\n",
              "</table>\n"
            ]
          },
          "metadata": {}
        }
      ]
    },
    {
      "cell_type": "code",
      "source": [
        "\n",
        "# Flag based on the condition\n",
        "df_self_joined = df_self_joined.withColumn(\"exclude_flag\",\n",
        "                                           F.when((F.col(\"df1.diagnostic_position\") == 1) &\n",
        "                                                  (F.col(\"df1.category\") == \"include\") &\n",
        "                                                  (F.col(\"df2.category\") == \"exclude\") &\n",
        "                                                  (F.col(\"df2.diagnostic_position\") > 1), 1)\n",
        "                                                  # & (F.col(\"date_diff\") > 0), 1)\n",
        "                                           .otherwise(0))\n",
        "\n",
        "display(df_self_joined )"
      ],
      "metadata": {
        "colab": {
          "base_uri": "https://localhost:8080/",
          "height": 512
        },
        "id": "5Hmmy1XSzIY6",
        "outputId": "5624a539-721a-47d6-b28f-0da293ae1dca"
      },
      "execution_count": null,
      "outputs": [
        {
          "output_type": "display_data",
          "data": {
            "text/plain": [
              "+---------+----------+-------------------+---------------+---------------+--------+------------+---------+----------+-------------------+---------------+---------------+--------+------------+---------+------------+\n",
              "|person_id|      date|diagnostic_position|diagnostic_code|diagnostic_code|category|include_flag|person_id|      date|diagnostic_position|diagnostic_code|diagnostic_code|category|include_flag|date_diff|exclude_flag|\n",
              "+---------+----------+-------------------+---------------+---------------+--------+------------+---------+----------+-------------------+---------------+---------------+--------+------------+---------+------------+\n",
              "|        3|2020-05-01|                  3|             B2|             B2| exclude|           0|        3|2020-05-01|                  3|             B2|             B2| exclude|           0|        0|           0|\n",
              "|        3|2020-05-01|                  3|             B2|             B2| exclude|           0|        3|2021-02-23|                  2|             B1|             B1| exclude|           0|      298|           0|\n",
              "|        3|2021-02-23|                  2|             B1|             B1| exclude|           0|        3|2020-05-01|                  3|             B2|             B2| exclude|           0|     -298|           0|\n",
              "|        3|2021-02-23|                  2|             B1|             B1| exclude|           0|        3|2021-02-23|                  2|             B1|             B1| exclude|           0|        0|           0|\n",
              "|        3|2020-01-01|                  1|             A1|             A1| include|           1|        3|2020-05-01|                  3|             B2|             B2| exclude|           0|      121|           1|\n",
              "|        3|2020-01-01|                  1|             A1|             A1| include|           1|        3|2021-02-23|                  2|             B1|             B1| exclude|           0|      419|           1|\n",
              "|        1|2021-02-11|                  2|             A2|             A2| include|           0|        1|2020-02-01|                  3|             B1|             B1| exclude|           0|     -376|           0|\n",
              "|        1|2020-02-01|                  3|             B1|             B1| exclude|           0|        1|2020-02-01|                  3|             B1|             B1| exclude|           0|        0|           0|\n",
              "|        1|2020-02-01|                  1|             A1|             A1| include|           1|        1|2020-02-01|                  3|             B1|             B1| exclude|           0|        0|           1|\n",
              "|        2|2021-02-23|                  2|             B1|             B1| exclude|           0|        2|2021-02-23|                  2|             B1|             B1| exclude|           0|        0|           0|\n",
              "|        2|2020-02-01|                  1|             A3|             A3| include|           1|        2|2021-02-23|                  2|             B1|             B1| exclude|           0|      388|           1|\n",
              "+---------+----------+-------------------+---------------+---------------+--------+------------+---------+----------+-------------------+---------------+---------------+--------+------------+---------+------------+"
            ],
            "text/html": [
              "<table border='1'>\n",
              "<tr><th>person_id</th><th>date</th><th>diagnostic_position</th><th>diagnostic_code</th><th>diagnostic_code</th><th>category</th><th>include_flag</th><th>person_id</th><th>date</th><th>diagnostic_position</th><th>diagnostic_code</th><th>diagnostic_code</th><th>category</th><th>include_flag</th><th>date_diff</th><th>exclude_flag</th></tr>\n",
              "<tr><td>3</td><td>2020-05-01</td><td>3</td><td>B2</td><td>B2</td><td>exclude</td><td>0</td><td>3</td><td>2020-05-01</td><td>3</td><td>B2</td><td>B2</td><td>exclude</td><td>0</td><td>0</td><td>0</td></tr>\n",
              "<tr><td>3</td><td>2020-05-01</td><td>3</td><td>B2</td><td>B2</td><td>exclude</td><td>0</td><td>3</td><td>2021-02-23</td><td>2</td><td>B1</td><td>B1</td><td>exclude</td><td>0</td><td>298</td><td>0</td></tr>\n",
              "<tr><td>3</td><td>2021-02-23</td><td>2</td><td>B1</td><td>B1</td><td>exclude</td><td>0</td><td>3</td><td>2020-05-01</td><td>3</td><td>B2</td><td>B2</td><td>exclude</td><td>0</td><td>-298</td><td>0</td></tr>\n",
              "<tr><td>3</td><td>2021-02-23</td><td>2</td><td>B1</td><td>B1</td><td>exclude</td><td>0</td><td>3</td><td>2021-02-23</td><td>2</td><td>B1</td><td>B1</td><td>exclude</td><td>0</td><td>0</td><td>0</td></tr>\n",
              "<tr><td>3</td><td>2020-01-01</td><td>1</td><td>A1</td><td>A1</td><td>include</td><td>1</td><td>3</td><td>2020-05-01</td><td>3</td><td>B2</td><td>B2</td><td>exclude</td><td>0</td><td>121</td><td>1</td></tr>\n",
              "<tr><td>3</td><td>2020-01-01</td><td>1</td><td>A1</td><td>A1</td><td>include</td><td>1</td><td>3</td><td>2021-02-23</td><td>2</td><td>B1</td><td>B1</td><td>exclude</td><td>0</td><td>419</td><td>1</td></tr>\n",
              "<tr><td>1</td><td>2021-02-11</td><td>2</td><td>A2</td><td>A2</td><td>include</td><td>0</td><td>1</td><td>2020-02-01</td><td>3</td><td>B1</td><td>B1</td><td>exclude</td><td>0</td><td>-376</td><td>0</td></tr>\n",
              "<tr><td>1</td><td>2020-02-01</td><td>3</td><td>B1</td><td>B1</td><td>exclude</td><td>0</td><td>1</td><td>2020-02-01</td><td>3</td><td>B1</td><td>B1</td><td>exclude</td><td>0</td><td>0</td><td>0</td></tr>\n",
              "<tr><td>1</td><td>2020-02-01</td><td>1</td><td>A1</td><td>A1</td><td>include</td><td>1</td><td>1</td><td>2020-02-01</td><td>3</td><td>B1</td><td>B1</td><td>exclude</td><td>0</td><td>0</td><td>1</td></tr>\n",
              "<tr><td>2</td><td>2021-02-23</td><td>2</td><td>B1</td><td>B1</td><td>exclude</td><td>0</td><td>2</td><td>2021-02-23</td><td>2</td><td>B1</td><td>B1</td><td>exclude</td><td>0</td><td>0</td><td>0</td></tr>\n",
              "<tr><td>2</td><td>2020-02-01</td><td>1</td><td>A3</td><td>A3</td><td>include</td><td>1</td><td>2</td><td>2021-02-23</td><td>2</td><td>B1</td><td>B1</td><td>exclude</td><td>0</td><td>388</td><td>1</td></tr>\n",
              "</table>\n"
            ]
          },
          "metadata": {}
        }
      ]
    },
    {
      "cell_type": "code",
      "source": [],
      "metadata": {
        "id": "vuilPTH_zJFa"
      },
      "execution_count": null,
      "outputs": []
    }
  ]
}